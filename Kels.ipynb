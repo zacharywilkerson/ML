{
 "cells": [
  {
   "cell_type": "code",
   "execution_count": 199,
   "metadata": {},
   "outputs": [],
   "source": [
    "# -*- coding: utf-8 -*-\n",
    "\"\"\"\n",
    "File:   hw0.py\n",
    "Author: \n",
    "Date:   \n",
    "Desc:   \n",
    "    \n",
    "\"\"\"\n",
    "\n",
    "\n",
    "\"\"\" =======================  Import dependencies ========================== \"\"\"\n",
    "\n",
    "import numpy as np\n",
    "import matplotlib.pyplot as plt\n",
    "import math\n",
    "\n",
    "plt.close('all') #close any open plots\n",
    "\n",
    "\"\"\"\n",
    "===============================================================================\n",
    "===============================================================================\n",
    "============================ Question 1 =======================================\n",
    "===============================================================================\n",
    "===============================================================================\n",
    "\"\"\"\n",
    "\"\"\" ======================  Function definitions ========================== \"\"\"\n",
    "\n",
    "def plotData(x1,t1,x2=None,t2=None,x3=None,t3=None,legend=[]):\n",
    "    '''plotData(x1,t1,x2,t2,x3=None,t3=None,legend=[]): Generate a plot of the \n",
    "       training data, the true function, and the estimated function'''\n",
    "    p1 = plt.plot(x1, t1, 'bo') #plot training data\n",
    "    if(x2 is not None):\n",
    "        p2 = plt.plot(x2, t2, 'g') #plot true value\n",
    "    if(x3 is not None):\n",
    "        p3 = plt.plot(x3, t3, 'r') #plot training data\n",
    "\n",
    "    #add title, legend and axes labels\n",
    "    plt.ylabel('t') #label x and y axes\n",
    "    plt.xlabel('x')\n",
    "    \n",
    "    if(x2 is None):\n",
    "        plt.legend((p1[0]),legend)\n",
    "    if(x3 is None):\n",
    "        plt.legend((p1[0],p2[0]),legend)\n",
    "    else:\n",
    "        plt.legend((p1[0],p2[0],p3[0]),legend)\n",
    "        \n",
    "def fitdata_poly(x,t,M):\n",
    "    X = np.array([x**m for m in range(M+1)]).T\n",
    "    w = np.linalg.inv(X.T@X)@X.T@t\n",
    "    return w\n",
    "\n",
    "def findmeans(start,stop,steps):\n",
    "    eq_spaced = np.linspace(start,stop,steps+1)\n",
    "    means = []\n",
    "    for j in range(0,steps):\n",
    "        # means.append(round(((eq_spaced[j] + eq_spaced[j+1])/2),4))\n",
    "        means.append(format(((eq_spaced[j] + eq_spaced[j+1])/2),'.5f'))\n",
    "    return means\n",
    "\n",
    "def fitdata_rbs(x,t,M):\n",
    "    basis = []\n",
    "    means = findmeans(-4,4,M)\n",
    "    for row_index in range(M+1):\n",
    "        for col_index in range(len(x)+1):\n",
    "            basis[row_index,col_index] = np.exp((-1)*(((x[col_index]) - (means[row_index])**2))/(2*(.2)**2))\n",
    "    basis = np.array(basis).T\n",
    "    w = np.linalg.inv(basis.T@basis)@basis.T@t\n",
    "    return w"
   ]
  },
  {
   "cell_type": "code",
   "execution_count": 178,
   "metadata": {},
   "outputs": [],
   "source": [
    "\"\"\" ======================  Variable Declaration ========================== \"\"\"\n",
    "# M = 7 #regression model order\n",
    "k = 1 #Huber M-estimator tuning parameter\n",
    "\n",
    "\"\"\" =======================  Load Training Data ======================= \"\"\"\n",
    "data_uniform = np.load('TrainData.npy')\n",
    "x_training = data_uniform[:,0]\n",
    "t_training = data_uniform[:,1]\n",
    "\n",
    "x_sinc = np.arange(-4,4,.001)\n",
    "t_sinc = np.sinc(x2)"
   ]
  },
  {
   "cell_type": "code",
   "execution_count": 189,
   "metadata": {},
   "outputs": [],
   "source": [
    "\"\"\" ========================  Train the Model ============================= \"\"\"\n",
    "\"\"\"This is where you call functions to train your model with different RBF kernels   \"\"\"\n",
    "# Polynomial training\n",
    "w_poly = fitdata_poly(x_training,t_training,9)\n",
    "x_poly = np.arange(-3,3,0.001) #equally spaced points\n",
    "X_poly = np.array([x_poly**m for m in range(w_poly.size)]).T\n",
    "t_poly = X_poly@w_poly #predicted value\n",
    "\n",
    "## Check best M using RMSE\n",
    "# Initialize variables\n",
    "rmse_check = np.zeros((len(x_training),1))\n",
    "# Calculate rmse across all M\n",
    "for M in range(1,(len(x_training)+1)):\n",
    "    w_check = fitdata(x_training,t_training,M)\n",
    "    #x_check = np.arange(-3,3,0.001) #equally spaced points\n",
    "    X_check = np.array([x_training**m for m in range(w_check.size)]).T\n",
    "    t_check = X_check@w_check #predicted value\n",
    "    inst_error_check = (t_check - t_training) #calculate instantaneous error\n",
    "    rmse_check[M-1,0] = math.sqrt((inst_error_check.T@inst_error_check)/len(x_training)) #calculate rmse\n",
    "rmse_min_check = rmse_check.argmin() + 1\n",
    "\n",
    "## RBS\n",
    "# basis = exp(-((x-mean(i))^2)/(2s^2)"
   ]
  },
  {
   "cell_type": "code",
   "execution_count": 185,
   "metadata": {},
   "outputs": [],
   "source": [
    "\"\"\" ======================== Load Test Data  and Test the Model =========================== \"\"\"\n",
    "\n",
    "\"\"\"This is where you should load the testing data set. You shoud NOT re-train the model   \"\"\"\n",
    "\n",
    "data_test = np.load('TestData.npy')"
   ]
  },
  {
   "cell_type": "code",
   "execution_count": 186,
   "metadata": {},
   "outputs": [
    {
     "data": {
      "image/png": "[encoded data removed]",
      "text/plain": [
       "<Figure size 432x288 with 1 Axes>"
      ]
     },
     "metadata": {
      "needs_background": "light"
     },
     "output_type": "display_data"
    },
    {
     "data": {
      "image/png": "[encoded data removed]",
      "text/plain": [
       "<Figure size 432x288 with 1 Axes>"
      ]
     },
     "metadata": {
      "needs_background": "light"
     },
     "output_type": "display_data"
    }
   ],
   "source": [
    "\"\"\" ========================  Plot Results ============================== \"\"\"\n",
    "\n",
    "\"\"\" This is where you should create the plots requested \"\"\"\n",
    "## Scatter plot -- Desired Value vs Input Value\n",
    "plt.figure()\n",
    "plotData(x1,t1,x_sinc,t_sinc,x_poly,t_poly,['Training Data','True Function','Estimated Polynomial'])\n",
    "# plt.title(\"Desired Value vs Input Value: M= \" + str(M))\n",
    "plt.title(\"Desired Value vs Input Value\")\n",
    "plt.ylim(-0.25,1.75)\n",
    "\n",
    "## Polynomial Regression Error for Varying Model Orders\n",
    "plt.figure()\n",
    "p1 = plt.plot(np.arange(1,len(x_training)+1),rmse_check,marker='o', color='b', fillstyle='none')\n",
    "plt.ylim(0,1)\n",
    "plt.xlabel(\"Model Order\")\n",
    "plt.ylabel(\"RMSE\")\n",
    "plt.title(\"Polynomial Regression Error for Varying Model Orders\")\n",
    "plt.legend(\"Training Error\")\n",
    "plt.show()"
   ]
  },
  {
   "cell_type": "code",
   "execution_count": null,
   "metadata": {},
   "outputs": [],
   "source": [
    "\"\"\" ======================  Variable Declaration ========================== \"\"\"\n",
    "M =  3 #regression model order\n",
    "k = 1 #Huber M-estimator tuning parameter\n",
    "\n",
    "\"\"\" =======================  Load Training Data ======================= \"\"\"\n",
    "data_uniform = np.load('TrainData.npy')\n",
    "x1 = data_uniform[:,0]\n",
    "t1 = data_uniform[:,1]\n",
    "\n",
    "x2 = x1\n",
    "t2 = np.sinc(x2)\n",
    "\n",
    "plotData(x1,t1,x2,t2)\n",
    "    \n",
    "\"\"\" ========================  Train the Model ============================= \"\"\"\n",
    "\"\"\"This is where you call functions to train your model with different RBF kernels   \"\"\"\n",
    "\n",
    "\n",
    "\n",
    "\"\"\" ======================== Load Test Data  and Test the Model =========================== \"\"\"\n",
    "\n",
    "\"\"\"This is where you should load the testing data set. You shoud NOT re-train the model   \"\"\"\n",
    "   \n",
    "\n",
    "\n",
    "\"\"\" ========================  Plot Results ============================== \"\"\"\n",
    "\n",
    "\"\"\" This is where you should create the plots requested \"\"\""
   ]
  },
  {
   "cell_type": "code",
   "execution_count": 171,
   "metadata": {},
   "outputs": [
    {
     "data": {
      "text/plain": [
       "array([[  1.        ,   1.        ,   1.        ,   1.        ],\n",
       "       [ -2.94      ,  -2.82      ,  -2.7       ,  -2.58      ],\n",
       "       [  8.6436    ,   7.9524    ,   7.29      ,   6.6564    ],\n",
       "       [-25.412184  , -22.425768  , -19.683     , -17.173512  ],\n",
       "       [ 74.71182096,  63.24066576,  53.1441    ,  44.30766096]])"
      ]
     },
     "execution_count": 171,
     "metadata": {},
     "output_type": "execute_result"
    }
   ],
   "source": [
    "np.array([x_training[0:4]**m for m in range(5)]).T"
   ]
  },
  {
   "cell_type": "code",
   "execution_count": 196,
   "metadata": {},
   "outputs": [
    {
     "data": {
      "text/plain": [
       "1.3838965267367769e-87"
      ]
     },
     "execution_count": 196,
     "metadata": {},
     "output_type": "execute_result"
    }
   ],
   "source": [
    "basis = np.exp((-1)*((6-2)**2)/(2*(.2)**2))\n",
    "basis"
   ]
  },
  {
   "cell_type": "code",
   "execution_count": 200,
   "metadata": {},
   "outputs": [
    {
     "ename": "TypeError",
     "evalue": "unsupported operand type(s) for ** or pow(): 'str' and 'int'",
     "output_type": "error",
     "traceback": [
      "\u001b[0;31m---------------------------------------------------------------------------\u001b[0m",
      "\u001b[0;31mTypeError\u001b[0m                                 Traceback (most recent call last)",
      "\u001b[0;32m<ipython-input-200-23cc38b6bedb>\u001b[0m in \u001b[0;36m<module>\u001b[0;34m\u001b[0m\n\u001b[0;32m----> 1\u001b[0;31m \u001b[0mdubu\u001b[0m \u001b[0;34m=\u001b[0m \u001b[0mfitdata_rbs\u001b[0m\u001b[0;34m(\u001b[0m\u001b[0mx_training\u001b[0m\u001b[0;34m,\u001b[0m\u001b[0mt_training\u001b[0m\u001b[0;34m,\u001b[0m\u001b[0;36m9\u001b[0m\u001b[0;34m)\u001b[0m\u001b[0;34m\u001b[0m\u001b[0;34m\u001b[0m\u001b[0m\n\u001b[0m",
      "\u001b[0;32m<ipython-input-199-b63e9aa858f9>\u001b[0m in \u001b[0;36mfitdata_rbs\u001b[0;34m(x, t, M)\u001b[0m\n\u001b[1;32m     64\u001b[0m     \u001b[0;32mfor\u001b[0m \u001b[0mrow_index\u001b[0m \u001b[0;32min\u001b[0m \u001b[0mrange\u001b[0m\u001b[0;34m(\u001b[0m\u001b[0mM\u001b[0m\u001b[0;34m+\u001b[0m\u001b[0;36m1\u001b[0m\u001b[0;34m)\u001b[0m\u001b[0;34m:\u001b[0m\u001b[0;34m\u001b[0m\u001b[0;34m\u001b[0m\u001b[0m\n\u001b[1;32m     65\u001b[0m         \u001b[0;32mfor\u001b[0m \u001b[0mcol_index\u001b[0m \u001b[0;32min\u001b[0m \u001b[0mrange\u001b[0m\u001b[0;34m(\u001b[0m\u001b[0mlen\u001b[0m\u001b[0;34m(\u001b[0m\u001b[0mx\u001b[0m\u001b[0;34m)\u001b[0m\u001b[0;34m+\u001b[0m\u001b[0;36m1\u001b[0m\u001b[0;34m)\u001b[0m\u001b[0;34m:\u001b[0m\u001b[0;34m\u001b[0m\u001b[0;34m\u001b[0m\u001b[0m\n\u001b[0;32m---> 66\u001b[0;31m             \u001b[0mbasis\u001b[0m\u001b[0;34m[\u001b[0m\u001b[0mrow_index\u001b[0m\u001b[0;34m,\u001b[0m\u001b[0mcol_index\u001b[0m\u001b[0;34m]\u001b[0m \u001b[0;34m=\u001b[0m \u001b[0mnp\u001b[0m\u001b[0;34m.\u001b[0m\u001b[0mexp\u001b[0m\u001b[0;34m(\u001b[0m\u001b[0;34m(\u001b[0m\u001b[0;34m-\u001b[0m\u001b[0;36m1\u001b[0m\u001b[0;34m)\u001b[0m\u001b[0;34m*\u001b[0m\u001b[0;34m(\u001b[0m\u001b[0;34m(\u001b[0m\u001b[0;34m(\u001b[0m\u001b[0mx\u001b[0m\u001b[0;34m[\u001b[0m\u001b[0mcol_index\u001b[0m\u001b[0;34m]\u001b[0m\u001b[0;34m)\u001b[0m \u001b[0;34m-\u001b[0m \u001b[0;34m(\u001b[0m\u001b[0mmeans\u001b[0m\u001b[0;34m[\u001b[0m\u001b[0mrow_index\u001b[0m\u001b[0;34m]\u001b[0m\u001b[0;34m)\u001b[0m\u001b[0;34m**\u001b[0m\u001b[0;36m2\u001b[0m\u001b[0;34m)\u001b[0m\u001b[0;34m)\u001b[0m\u001b[0;34m/\u001b[0m\u001b[0;34m(\u001b[0m\u001b[0;36m2\u001b[0m\u001b[0;34m*\u001b[0m\u001b[0;34m(\u001b[0m\u001b[0;36m.2\u001b[0m\u001b[0;34m)\u001b[0m\u001b[0;34m**\u001b[0m\u001b[0;36m2\u001b[0m\u001b[0;34m)\u001b[0m\u001b[0;34m)\u001b[0m\u001b[0;34m\u001b[0m\u001b[0;34m\u001b[0m\u001b[0m\n\u001b[0m\u001b[1;32m     67\u001b[0m     \u001b[0mbasis\u001b[0m \u001b[0;34m=\u001b[0m \u001b[0mnp\u001b[0m\u001b[0;34m.\u001b[0m\u001b[0marray\u001b[0m\u001b[0;34m(\u001b[0m\u001b[0mbasis\u001b[0m\u001b[0;34m)\u001b[0m\u001b[0;34m.\u001b[0m\u001b[0mT\u001b[0m\u001b[0;34m\u001b[0m\u001b[0;34m\u001b[0m\u001b[0m\n\u001b[1;32m     68\u001b[0m     \u001b[0mw\u001b[0m \u001b[0;34m=\u001b[0m \u001b[0mnp\u001b[0m\u001b[0;34m.\u001b[0m\u001b[0mlinalg\u001b[0m\u001b[0;34m.\u001b[0m\u001b[0minv\u001b[0m\u001b[0;34m(\u001b[0m\u001b[0mbasis\u001b[0m\u001b[0;34m.\u001b[0m\u001b[0mT\u001b[0m\u001b[0;34m@\u001b[0m\u001b[0mbasis\u001b[0m\u001b[0;34m)\u001b[0m\u001b[0;34m@\u001b[0m\u001b[0mbasis\u001b[0m\u001b[0;34m.\u001b[0m\u001b[0mT\u001b[0m\u001b[0;34m@\u001b[0m\u001b[0mt\u001b[0m\u001b[0;34m\u001b[0m\u001b[0;34m\u001b[0m\u001b[0m\n",
      "\u001b[0;31mTypeError\u001b[0m: unsupported operand type(s) for ** or pow(): 'str' and 'int'"
     ]
    }
   ],
   "source": [
    "dubu = fitdata_rbs(x_training,t_training,9)"
   ]
  },
  {
   "cell_type": "code",
   "execution_count": null,
   "metadata": {},
   "outputs": [],
   "source": []
  }
 ],
 "metadata": {
  "kernelspec": {
   "display_name": "Python 3",
   "language": "python",
   "name": "python3"
  },
  "language_info": {
   "codemirror_mode": {
    "name": "ipython",
    "version": 3
   },
   "file_extension": ".py",
   "mimetype": "text/x-python",
   "name": "python",
   "nbconvert_exporter": "python",
   "pygments_lexer": "ipython3",
   "version": "3.8.3"
  }
 },
 "nbformat": 4,
 "nbformat_minor": 4
}
